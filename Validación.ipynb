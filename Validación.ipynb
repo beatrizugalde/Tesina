{
 "cells": [
  {
   "cell_type": "markdown",
   "metadata": {},
   "source": [
    "Descripción del código:\n",
    "Archivo para entender la validación del modelo.\n",
    "\n",
    "Se seleccionaron 5 abstracts al azar, sobre los que se procesaron con la función principal: se extrajeron los sustantivos. \n",
    "Este resultado se contrastará con el análisis de los mismos textos por un experto en el tema.\n",
    "\n",
    "Luego se calculan métricas de estimación de errores: Exactitud, Precisión, Sensibilidad y F1.\n",
    "Además se grafica la matriz de confusión, comparando la clasificación real con la predicha.\n",
    "\n",
    "Input: Archivos excel con la caracterización manual y por el modelo\n",
    "Output: Métricas de análisis, Matriz de confusión"
   ]
  },
  {
   "cell_type": "code",
   "execution_count": 37,
   "metadata": {},
   "outputs": [],
   "source": [
    "#importar librerias\n",
    "\n",
    "import json\n",
    "import spacy\n",
    "import en_core_web_sm\n",
    "import re\n",
    "import pandas as pd\n",
    "import random\n",
    "from sklearn.metrics import confusion_matrix, ConfusionMatrixDisplay\n",
    "import matplotlib.pyplot as plt\n",
    "import os"
   ]
  },
  {
   "cell_type": "code",
   "execution_count": 4,
   "metadata": {},
   "outputs": [],
   "source": [
    "#cargar los archivos\n",
    "\n",
    "with open ('pubmed_data262.json','r',encoding='utf-8') as f:\n",
    "    pubmed_data=json.load(f)\n",
    "\n",
    "\n",
    "#primer output: archivo de texto con los abstracts\n",
    "#segundo output: ese archivo para procesarlo posteriormente. Luego obtener una lista por cada pmid con los sustantivos correspondientes"
   ]
  },
  {
   "cell_type": "markdown",
   "metadata": {},
   "source": [
    "1. Seleccionar 5 publicaciones de forma aleatoria"
   ]
  },
  {
   "cell_type": "code",
   "execution_count": 5,
   "metadata": {},
   "outputs": [
    {
     "name": "stdout",
     "output_type": "stream",
     "text": [
      "['38721332', '38279025', '33679850', '39437840', '37073477']\n"
     ]
    }
   ],
   "source": [
    "#lista de los pmids\n",
    "lista_pmids=[]\n",
    "for paper in pubmed_data:\n",
    "    lista_pmids.append(paper['PMID'])\n",
    "\n",
    "#5 valores aleatorios\n",
    "\n",
    "muestras = random.sample(lista_pmids,5)\n",
    "print(muestras)\n"
   ]
  },
  {
   "cell_type": "code",
   "execution_count": 6,
   "metadata": {},
   "outputs": [
    {
     "name": "stdout",
     "output_type": "stream",
     "text": [
      "5\n"
     ]
    }
   ],
   "source": [
    "#Filtrar el json de pubmed desde los pmids. lista de abstracts\n",
    "\n",
    "abstracts=[]\n",
    "for paper in pubmed_data:\n",
    "    if paper['PMID'] in muestras:\n",
    "        abstracts.append(paper['Abstract'])\n",
    "\n",
    "\n",
    "print(len(abstracts))"
   ]
  },
  {
   "cell_type": "code",
   "execution_count": 7,
   "metadata": {},
   "outputs": [
    {
     "name": "stdout",
     "output_type": "stream",
     "text": [
      "Non-native trees disrupt ecological processes vital to native plant communities. We studied how forests dominated by <i>Acacia dealbata</i> and <i>Eucalyptus globulus</i> affect the role of birds as dual pollinators and seed dispersers in a region heavily impacted by these two non-native species. We compared bird-plant interactions in the native and in the two non-native forest types. We constructed a multilayer regional network for each forest type and evaluated differences in network dissimilarity between networks. We also calculated the bird's importance in connecting processes and variables associated with module diversity. To determine how the networks react to changes in species richness, we did a simulation of species richness gradient and link percentage for each forest type. The number of birds acting both as pollinators and seed dispersers was higher in native than in non-native forests. However, birds in non-native forests still play a crucial role in maintaining the ecological services provided to native plant communities. However, the eucalyptus network exhibited a concerning simplification, forcing bird species to fully exploit the few remaining resources, leaving little room for structural adjustments and limiting the ecosystem's ability to withstand further species loss. These findings highlight how non-native trees may trigger cascading effects across trophic levels.\n",
      "We aimed to evaluate the facilitation effects of an aluminum (Al) hyperaccumulator species bearing cluster roots, <i>Gevuina avellana</i>, on the seedling growth and performance of an Al-intolerant and phosphorus (P)-deficient-sensitive plant, <i>Vaccinium corymbosum</i>. For this, seedlings of <i>G. avellana</i> and <i>V. corymbosum</i> were grown alone or together as follows: i) two <i>G. avellana</i> seedlings, ii) one <i>G. avellana</i> + one <i>V. corymbosum</i> and iii) two <i>V. corymbosum</i>, in soil supplemented with Al (as Al<sub>2</sub>(SO<sub>4</sub>)<sub>3</sub>) and in the control (without Al supplementation). We determined relative growth rate (RGR), photosynthetic rate, chlorophyll concentration, lipid peroxidation and Al and nutrient concentration [Nitrogen (N), P, potassium (K), calcium (Ca), magnesium (Mg), sodium (Na), manganese (Mn), iron (Fe), copper (Cu), zinc (Zn), and sulfur (S)] in leaves and roots of both species. The results showed that, in general, <i>G. avellana</i> did not assist <i>V. corymbosum</i> to enhance its RGR nor reduce its Al uptake. However, <i>G. avellana</i> assisted <i>V. corymbosum</i> in enhanced N acquisition and, consequently, to increase its chlorophyll concentration and photosynthetic rate. Besides, <i>V. corymbosum</i> had lower lipid peroxidation in leaves when grown in the soil with high Al supplementation in association with <i>G. avellana.</i> Our results suggest a facilitating effect of <i>G. avellana</i> to <i>V. corymbosum</i> when grown in soils with high Al concentration, by enhancing chlorophyll concentrations and photosynthetic rate, and decreasing the oxidative damage to lipids.\n",
      "Southern South American Proteaceae thrive on young volcanic substrates, which are extremely low in plant-available phosphorus (P). Most Proteaceae exhibit a nutrient-acquisition strategy based on the release of carboxylates from specialized roots, named cluster roots (CR). Some Proteaceae colonize young volcanic substrates which has been related to CR functioning. However, physiological functioning of other Proteaceae on recent volcanic substrates is unknown. We conducted an experiment with seedlings of five Proteaceae (<i>Gevuina avellana</i>, <i>Embothrium coccineum</i>, <i>Lomatia hirsuta</i>, <i>L. ferruginea</i>, and <i>L. dentata</i>) grown in three volcanic materials. Two of them are substrates with very low nutrient concentrations, collected from the most recent deposits of the volcanoes Choshuenco and Calbuco (Chile). The other volcanic material corresponds to a developed soil that exhibits a high nutrient availability. We assessed morphological responses (i.e., height, biomass, and CR formation), seed and leaf macronutrient and micronutrient concentrations and carboxylates exuded by roots. The results show that <i>G. avellana</i> was less affected by nutrient availability of the volcanic substrate, probably because it had a greater nutrient content in its seeds and produced large CR exuding carboxylates that supported their initial growth. <i>Embothrium coccineum</i> exhibited greater total plant height and leaf P concentration than <i>Lomatia</i> species. In general, in all species leaf macronutrient concentrations were reduced on nutrient-poor volcanic substrates, while leaf micronutrient concentrations were highly variable depending on species and volcanic material. We conclude that Proteaceae from temperate rainforests differ in their capacity to grow and acquire nutrients from young and nutrient-poor volcanic substrates. The greater seed nutrient content, low nutrient requirements (only for <i>G. avellana</i>) and ability to mobilize nutrients help explain why <i>G. avellana</i> and <i>E. coccineum</i> are better colonizers of recent volcanic substrates than <i>Lomatia</i> species.\n",
      "Knowledge on mesoclimatic zonation and microclimatic variations within mountain forest ecosystems is crucial for understanding regional species turnover and effects of climate change on these systems. The temperate mountain forests in the Andean region of South America are among the largest and contiguous natural deciduous forest areas in the world. Due to their pronounced disturbance regime and different successional stages, a climatic zonation combined with the characterisation of its microclimatic variation is important to identify thresholds of species occurrences.We used micro-loggers to measure air temperature and relative humidity for one year at 40 measurement locations along longitudinal and elevation gradients in mountain forests in Northern Patagonia, Argentina. Our results unveil mesoclimatic patterns within these forests characterised by variations in temperature and vapour pressure deficit along the elevational gradient in general, but also at different times of the year. For example, Austrocedrus chilensis and Nothofagus dombeyi forests differed mainly by temperature and its diurnal range in the warmest months of the year. Also, differences between forest stands and gaps were more pronounced in the warmest months of the year and at lower elevations, with up to 2.5 K higher temperatures in the second half of the day in gaps. We found clear indications that shrubland of Nothofagus antarctica representing a successional stage after disturbances alters the mesoclimatic pattern, favouring forest fire ignition. Such mesoclimatic variations have a major influence on tree species turnover and ecological processes within these forest ecosystems.The findings contribute to our understanding of the complex interplay between topography, climate, and vegetation in shaping the spatial patterns of species occurrences.\n",
      "Fire is a major cause of tree injury and mortality worldwide, yet our current understanding of fire effects is largely based on ocular estimates of stem charring and foliage discoloration, which are error prone and provide little information on underlying tree function. Accurate quantification of physiological performance is a research and forest management need, given that declining performance could help identify mechanisms of-and serve as an early warning sign for-mortality. Many previous efforts have been hampered by the inability to quantify the heat flux that a tree experiences during a fire, given its highly variable nature in space and time. In this study, we used a dose-response approach to elucidate fire impacts by subjecting Pinus monticola var. minima Lemmon and Pseudotsuga menziesii (Mirb.) Franco var. glauca (Beissn.) Franco saplings to surface fires of varying intensity doses and measuring short-term post-fire physiological performance in photosynthetic rate and chlorophyll fluorescence. We also evaluated the ability of spectral reflectance indices to quantify change in physiological performance at the individual tree crown and stand scales. Although physiological performance in both P. monticola and P. menziesii declined with increasing fire intensity, P. monticola maintained a greater photosynthetic rate and higher chlorophyll fluorescence at higher doses, for longer after the fire. Pinus monticola also had complete survival at lower fire intensity doses, whereas P. menziesii had some mortality at all doses, implying higher fire resistance for P. monticola at this life stage. Generally, individual-scale spectral indices were more accurate at quantifying physiological performance than those acquired at the stand-scale. The Photochemical Reflectance Index outperformed other indices at quantifying photosynthesis and chlorophyll fluorescence, highlighting its potential use to quantify crown scale physiological performance. Spectral indices that incorporated near-infrared and shortwave infrared reflectance, such as the Normalized Burn Ratio, were accurate at characterizing stand-scale mortality. The results from this study were included in a conifer cross-comparison using physiology and mortality data from other dose-response studies. The comparison highlights the close evolutionary relationship between fire and species within the Pinus genus, assessed to date, given the high survivorship of Pinus species at lower fire intensities versus other conifers.\n"
     ]
    }
   ],
   "source": [
    "for e in abstracts:\n",
    "    print(e)"
   ]
  },
  {
   "cell_type": "markdown",
   "metadata": {},
   "source": [
    "Primer output: \n",
    "\n",
    "Archivo de texto para analizar manualmente. Se espera un análisis sintáctico para identificar los sustantivos según el contexto. \n",
    "El nombre de cada archivo es PMID correspondiente."
   ]
  },
  {
   "cell_type": "code",
   "execution_count": 8,
   "metadata": {},
   "outputs": [
    {
     "name": "stdout",
     "output_type": "stream",
     "text": [
      "{'39437840': \"Non-native trees disrupt ecological processes vital to native plant communities. We studied how forests dominated by <i>Acacia dealbata</i> and <i>Eucalyptus globulus</i> affect the role of birds as dual pollinators and seed dispersers in a region heavily impacted by these two non-native species. We compared bird-plant interactions in the native and in the two non-native forest types. We constructed a multilayer regional network for each forest type and evaluated differences in network dissimilarity between networks. We also calculated the bird's importance in connecting processes and variables associated with module diversity. To determine how the networks react to changes in species richness, we did a simulation of species richness gradient and link percentage for each forest type. The number of birds acting both as pollinators and seed dispersers was higher in native than in non-native forests. However, birds in non-native forests still play a crucial role in maintaining the ecological services provided to native plant communities. However, the eucalyptus network exhibited a concerning simplification, forcing bird species to fully exploit the few remaining resources, leaving little room for structural adjustments and limiting the ecosystem's ability to withstand further species loss. These findings highlight how non-native trees may trigger cascading effects across trophic levels.\"}\n",
      "{'38721332': 'We aimed to evaluate the facilitation effects of an aluminum (Al) hyperaccumulator species bearing cluster roots, <i>Gevuina avellana</i>, on the seedling growth and performance of an Al-intolerant and phosphorus (P)-deficient-sensitive plant, <i>Vaccinium corymbosum</i>. For this, seedlings of <i>G. avellana</i> and <i>V. corymbosum</i> were grown alone or together as follows: i) two <i>G. avellana</i> seedlings, ii) one <i>G. avellana</i> + one <i>V. corymbosum</i> and iii) two <i>V. corymbosum</i>, in soil supplemented with Al (as Al<sub>2</sub>(SO<sub>4</sub>)<sub>3</sub>) and in the control (without Al supplementation). We determined relative growth rate (RGR), photosynthetic rate, chlorophyll concentration, lipid peroxidation and Al and nutrient concentration [Nitrogen (N), P, potassium (K), calcium (Ca), magnesium (Mg), sodium (Na), manganese (Mn), iron (Fe), copper (Cu), zinc (Zn), and sulfur (S)] in leaves and roots of both species. The results showed that, in general, <i>G. avellana</i> did not assist <i>V. corymbosum</i> to enhance its RGR nor reduce its Al uptake. However, <i>G. avellana</i> assisted <i>V. corymbosum</i> in enhanced N acquisition and, consequently, to increase its chlorophyll concentration and photosynthetic rate. Besides, <i>V. corymbosum</i> had lower lipid peroxidation in leaves when grown in the soil with high Al supplementation in association with <i>G. avellana.</i> Our results suggest a facilitating effect of <i>G. avellana</i> to <i>V. corymbosum</i> when grown in soils with high Al concentration, by enhancing chlorophyll concentrations and photosynthetic rate, and decreasing the oxidative damage to lipids.'}\n",
      "{'33679850': 'Southern South American Proteaceae thrive on young volcanic substrates, which are extremely low in plant-available phosphorus (P). Most Proteaceae exhibit a nutrient-acquisition strategy based on the release of carboxylates from specialized roots, named cluster roots (CR). Some Proteaceae colonize young volcanic substrates which has been related to CR functioning. However, physiological functioning of other Proteaceae on recent volcanic substrates is unknown. We conducted an experiment with seedlings of five Proteaceae (<i>Gevuina avellana</i>, <i>Embothrium coccineum</i>, <i>Lomatia hirsuta</i>, <i>L. ferruginea</i>, and <i>L. dentata</i>) grown in three volcanic materials. Two of them are substrates with very low nutrient concentrations, collected from the most recent deposits of the volcanoes Choshuenco and Calbuco (Chile). The other volcanic material corresponds to a developed soil that exhibits a high nutrient availability. We assessed morphological responses (i.e., height, biomass, and CR formation), seed and leaf macronutrient and micronutrient concentrations and carboxylates exuded by roots. The results show that <i>G. avellana</i> was less affected by nutrient availability of the volcanic substrate, probably because it had a greater nutrient content in its seeds and produced large CR exuding carboxylates that supported their initial growth. <i>Embothrium coccineum</i> exhibited greater total plant height and leaf P concentration than <i>Lomatia</i> species. In general, in all species leaf macronutrient concentrations were reduced on nutrient-poor volcanic substrates, while leaf micronutrient concentrations were highly variable depending on species and volcanic material. We conclude that Proteaceae from temperate rainforests differ in their capacity to grow and acquire nutrients from young and nutrient-poor volcanic substrates. The greater seed nutrient content, low nutrient requirements (only for <i>G. avellana</i>) and ability to mobilize nutrients help explain why <i>G. avellana</i> and <i>E. coccineum</i> are better colonizers of recent volcanic substrates than <i>Lomatia</i> species.'}\n",
      "{'38279025': 'Knowledge on mesoclimatic zonation and microclimatic variations within mountain forest ecosystems is crucial for understanding regional species turnover and effects of climate change on these systems. The temperate mountain forests in the Andean region of South America are among the largest and contiguous natural deciduous forest areas in the world. Due to their pronounced disturbance regime and different successional stages, a climatic zonation combined with the characterisation of its microclimatic variation is important to identify thresholds of species occurrences.We used micro-loggers to measure air temperature and relative humidity for one year at 40 measurement locations along longitudinal and elevation gradients in mountain forests in Northern Patagonia, Argentina. Our results unveil mesoclimatic patterns within these forests characterised by variations in temperature and vapour pressure deficit along the elevational gradient in general, but also at different times of the year. For example, Austrocedrus chilensis and Nothofagus dombeyi forests differed mainly by temperature and its diurnal range in the warmest months of the year. Also, differences between forest stands and gaps were more pronounced in the warmest months of the year and at lower elevations, with up to 2.5 K higher temperatures in the second half of the day in gaps. We found clear indications that shrubland of Nothofagus antarctica representing a successional stage after disturbances alters the mesoclimatic pattern, favouring forest fire ignition. Such mesoclimatic variations have a major influence on tree species turnover and ecological processes within these forest ecosystems.The findings contribute to our understanding of the complex interplay between topography, climate, and vegetation in shaping the spatial patterns of species occurrences.'}\n",
      "{'37073477': 'Fire is a major cause of tree injury and mortality worldwide, yet our current understanding of fire effects is largely based on ocular estimates of stem charring and foliage discoloration, which are error prone and provide little information on underlying tree function. Accurate quantification of physiological performance is a research and forest management need, given that declining performance could help identify mechanisms of-and serve as an early warning sign for-mortality. Many previous efforts have been hampered by the inability to quantify the heat flux that a tree experiences during a fire, given its highly variable nature in space and time. In this study, we used a dose-response approach to elucidate fire impacts by subjecting Pinus monticola var. minima Lemmon and Pseudotsuga menziesii (Mirb.) Franco var. glauca (Beissn.) Franco saplings to surface fires of varying intensity doses and measuring short-term post-fire physiological performance in photosynthetic rate and chlorophyll fluorescence. We also evaluated the ability of spectral reflectance indices to quantify change in physiological performance at the individual tree crown and stand scales. Although physiological performance in both P. monticola and P. menziesii declined with increasing fire intensity, P. monticola maintained a greater photosynthetic rate and higher chlorophyll fluorescence at higher doses, for longer after the fire. Pinus monticola also had complete survival at lower fire intensity doses, whereas P. menziesii had some mortality at all doses, implying higher fire resistance for P. monticola at this life stage. Generally, individual-scale spectral indices were more accurate at quantifying physiological performance than those acquired at the stand-scale. The Photochemical Reflectance Index outperformed other indices at quantifying photosynthesis and chlorophyll fluorescence, highlighting its potential use to quantify crown scale physiological performance. Spectral indices that incorporated near-infrared and shortwave infrared reflectance, such as the Normalized Burn Ratio, were accurate at characterizing stand-scale mortality. The results from this study were included in a conifer cross-comparison using physiology and mortality data from other dose-response studies. The comparison highlights the close evolutionary relationship between fire and species within the Pinus genus, assessed to date, given the high survivorship of Pinus species at lower fire intensities versus other conifers.'}\n"
     ]
    }
   ],
   "source": [
    "#Esto de aquí no sé si sea realmente necesario. Tal vez para nombrar los archivos\n",
    "#Filtrar el json de pubmed desde los pmids. Abstract + PMID\n",
    "json_fil = [{paper['PMID']: paper['Abstract']} for paper in pubmed_data if paper['PMID'] in muestras]\n",
    "for e in json_fil:\n",
    "    print(e)"
   ]
  },
  {
   "cell_type": "code",
   "execution_count": null,
   "metadata": {},
   "outputs": [],
   "source": [
    "#Output para analizar de forma manual (Archivo de Texto)\n",
    "\n",
    "for diccionario in json_fil:     \n",
    "    for nombre_archivo, contenido in diccionario.items():\n",
    "        with open(f\"{nombre_archivo}.txt\",\"w\",encoding=\"utf-8\") as archivo:\n",
    "            archivo.write(contenido)\n",
    "            "
   ]
  },
  {
   "cell_type": "markdown",
   "metadata": {},
   "source": [
    "Segundo output: \n",
    "\n",
    "Resultado de análisis por el modelo \"en_core_web_sm\". \n",
    "\n",
    "El dataframe exportado en formato excel incluye las columnas de: posición, palabra y Part of Speech (Sustantivo u Otro).\n",
    "En este mismo archivo se completó la clasificación manual"
   ]
  },
  {
   "cell_type": "code",
   "execution_count": null,
   "metadata": {},
   "outputs": [],
   "source": [
    "#Output con palabras clasificadas por el modelo. Luego completar aquí mismo la clasificación real\n",
    "\n",
    "nlp = spacy.load(\"en_core_web_sm\")     \n",
    "\n",
    "def clean_text(texto):                                                         \n",
    "    return re.sub(r\"<.*?>\", \"\", str(texto)) \n",
    "\n",
    "for diccionario in json_fil:\n",
    "    for nombre_archivo,contenido in diccionario.items():\n",
    "        doc = nlp(clean_text(contenido))\n",
    "        data=[]\n",
    "        \n",
    "        for i,token in enumerate(doc):\n",
    "            clasificacion = \"SUSTANTIVO\" if token.pos_ in [\"NOUN\",\"PROPN\"] else \"OTRO\"\n",
    "            data.append({'posición':i+1,'palabra':token.text,'POS':clasificacion})\n",
    "\n",
    "    df_val_pred=pd.DataFrame(data)\n",
    "    salida = f\"{nombre_archivo}.xlsx\"\n",
    "    df_val_pred.to_excel(salida,index=False)\n"
   ]
  },
  {
   "cell_type": "markdown",
   "metadata": {},
   "source": [
    "2. Comparación entre el análisis manual con el resultado del modelo. \n",
    "\n",
    "\n",
    "Análisis matemático de la validación:\n",
    "Se calculan los siguientes campos según su clasificación (Sustantivo - Otro)\n",
    "\n",
    "Positivos (P): Sustantivos reales según el análisis manual\n",
    "Negativos (N): Otras palabras reales según el análisis manual\n",
    "Verdaderos Positivos (TP): Positivos correctamente identificados por el modelo\n",
    "Verdaderos Negativos (TN): Negativos correctamente identificados por el modelo\n",
    "Falsos Positivos (FP): Otros identificados como sustantivos\n",
    "Falsos Negativos (FN): Sustantivos identificados como otros\n",
    "\n",
    "Se calcularán Exactitud, Precisión, Sensibilidad y F-1\n",
    "Se graficará una matriz de confusión."
   ]
  },
  {
   "cell_type": "code",
   "execution_count": null,
   "metadata": {},
   "outputs": [],
   "source": [
    "#Código para trabajar con varios archivos\n",
    "\n",
    "archivos = ['33679850.xlsx','37073477.xlsx','38279025.xlsx','38721332.xlsx','39437840.xlsx'] \n",
    "\n",
    "lista=[]\n",
    "\n",
    "for PMID in archivos:\n",
    "    df = pd.read_excel(e)\n",
    "    df.insert(0,'PMID', os.path.splitext(e)[0])\n",
    "    lista.append(df)\n",
    "\n",
    "df_val = pd.concat(lista, ignore_index=True) # reeplazar por df_val\n",
    "\n"
   ]
  },
  {
   "cell_type": "code",
   "execution_count": 47,
   "metadata": {},
   "outputs": [
    {
     "name": "stdout",
     "output_type": "stream",
     "text": [
      "<class 'pandas.core.frame.DataFrame'>\n",
      "RangeIndex: 1160 entries, 0 to 1159\n",
      "Data columns (total 5 columns):\n",
      " #   Column        Non-Null Count  Dtype \n",
      "---  ------        --------------  ----- \n",
      " 0   PMID          1160 non-null   object\n",
      " 1   posición      1160 non-null   int64 \n",
      " 2   palabra       1160 non-null   object\n",
      " 3   POS_Predicho  1160 non-null   object\n",
      " 4   POS_REAL      1160 non-null   object\n",
      "dtypes: int64(1), object(4)\n",
      "memory usage: 45.4+ KB\n"
     ]
    }
   ],
   "source": [
    "df_val.info()"
   ]
  },
  {
   "cell_type": "code",
   "execution_count": 50,
   "metadata": {},
   "outputs": [],
   "source": [
    "df_val['TP'] = ((df_val['POS_REAL'] == 'SUSTANTIVO') & (df_val['POS_Predicho'] == 'SUSTANTIVO')).astype(int)\n",
    "df_val['TN'] = ((df_val['POS_REAL'] == 'OTRO') & (df_val['POS_Predicho'] == 'OTRO')).astype(int)\n",
    "df_val['FP'] = ((df_val['POS_REAL'] == 'OTRO') & (df_val['POS_Predicho'] == 'SUSTANTIVO')).astype(int)\n",
    "df_val['FN'] = ((df_val['POS_REAL'] == 'SUSTANTIVO') & (df_val['POS_Predicho'] == 'OTRO')).astype(int)\n",
    "df_val['y_true'] = df_val['POS_REAL'].apply(lambda x: 1 if x== 'SUSTANTIVO' else 0)\n",
    "df_val['y_pred'] = df_val['POS_Predicho'].apply(lambda x: 1 if x== 'SUSTANTIVO' else 0)\n",
    "\n"
   ]
  },
  {
   "cell_type": "code",
   "execution_count": 54,
   "metadata": {},
   "outputs": [
    {
     "name": "stdout",
     "output_type": "stream",
     "text": [
      "          PMID  posición  palabra POS_Predicho    POS_REAL  TP  TN  FP  FN  \\\n",
      "1155  39437840       228  effects   SUSTANTIVO  SUSTANTIVO   1   0   0   0   \n",
      "1156  39437840       229   across         OTRO        OTRO   0   1   0   0   \n",
      "1157  39437840       230  trophic         OTRO  SUSTANTIVO   0   0   0   1   \n",
      "1158  39437840       231   levels   SUSTANTIVO  SUSTANTIVO   1   0   0   0   \n",
      "1159  39437840       232        .         OTRO        OTRO   0   1   0   0   \n",
      "\n",
      "      y_true  y_pred  \n",
      "1155       1       1  \n",
      "1156       0       0  \n",
      "1157       1       0  \n",
      "1158       1       1  \n",
      "1159       0       0  \n"
     ]
    }
   ],
   "source": [
    "print(df_val.tail())"
   ]
  },
  {
   "cell_type": "code",
   "execution_count": 58,
   "metadata": {},
   "outputs": [
    {
     "name": "stdout",
     "output_type": "stream",
     "text": [
      "P: 390   N: 770   TP: 345   TN: 760   FP: 10   FN: 45\n"
     ]
    }
   ],
   "source": [
    "#calcular\n",
    "TP = df_val['TP'].sum()\n",
    "TN = df_val['TN'].sum()\n",
    "FP= df_val['FP'].sum()\n",
    "FN=df_val['FN'].sum()\n",
    "P=(df_val['y_true']==1).sum()\n",
    "N=(df_val['y_true']==0).sum()\n",
    "\n",
    "print('P:',P,\" \",'N:',N,\" \",'TP:',TP,\" \",'TN:',TN,\" \",'FP:',FP,\" \",'FN:',FN)"
   ]
  },
  {
   "cell_type": "code",
   "execution_count": 61,
   "metadata": {},
   "outputs": [
    {
     "name": "stdout",
     "output_type": "stream",
     "text": [
      "precision: 0.971830985915493\n",
      "recall: 0.8846153846153846\n",
      "accuracy: 0.5948275862068966\n",
      "f1: 0.9261744966442953\n"
     ]
    }
   ],
   "source": [
    "#Cálculo de métricas\n",
    "\n",
    "precision = TP/(TP + FP) if (TP + FP)>0 else 0\n",
    "recall = TP/P if P >0 else 0 #Tasa de verdaderos positivos\n",
    "accuracy = (TP +TP)/(P + N ) if (P + N)>0 else 0  #Exactitud\n",
    "f1 = 2*(precision * recall)/(precision + recall) if (precision + recall)>0 else 0\n",
    "\n",
    "print('precision:',precision)\n",
    "print('recall:',recall)\n",
    "print('accuracy:',accuracy)\n",
    "print('f1:',f1)"
   ]
  },
  {
   "cell_type": "code",
   "execution_count": 62,
   "metadata": {},
   "outputs": [
    {
     "name": "stdout",
     "output_type": "stream",
     "text": [
      "Error: 0.04741379310344827\n",
      "Tasa de Falsos Positivos: 0.012987012987012988\n"
     ]
    }
   ],
   "source": [
    "#otras métricas\n",
    "\n",
    "error = (FP + FN)/(P + N)\n",
    "tasa_fp = FP/(FP + TN)\n",
    "\n",
    "print('Error:',error)\n",
    "print('Tasa de Falsos Positivos:',tasa_fp)"
   ]
  },
  {
   "cell_type": "code",
   "execution_count": 51,
   "metadata": {},
   "outputs": [
    {
     "data": {
      "image/png": "[encoded data removed]",
      "text/plain": [
       "<Figure size 640x480 with 2 Axes>"
      ]
     },
     "metadata": {},
     "output_type": "display_data"
    }
   ],
   "source": [
    "\n",
    "cm = confusion_matrix(df_val['y_true'],df_val['y_pred'])\n",
    "\n",
    "disp = ConfusionMatrixDisplay (confusion_matrix=cm,display_labels=['OTRO','SUSTANTIVO'])\n",
    "disp.plot(cmap='Blues')\n",
    "plt.title(\"Matriz de Confusión\")\n",
    "plt.show()"
   ]
  },
  {
   "cell_type": "code",
   "execution_count": 68,
   "metadata": {},
   "outputs": [
    {
     "name": "stdout",
     "output_type": "stream",
     "text": [
      "Empty DataFrame\n",
      "Columns: [PMID, posición, palabra, POS_Predicho, POS_REAL]\n",
      "Index: []\n"
     ]
    },
    {
     "name": "stderr",
     "output_type": "stream",
     "text": [
      "/var/folders/z6/m38l9jcx5tn1q649hp37hy0r0000gn/T/ipykernel_1412/209748435.py:1: UserWarning: Boolean Series key will be reindexed to match DataFrame index.\n",
      "  no_rec = df[(df_val['y_pred'] != df_val['y_true']) & df_val['POS_REAL']=='SUSTANTIVO']\n"
     ]
    }
   ],
   "source": [
    "no_rec = df[(df_val['y_pred'] != df_val['y_true']) & df_val['POS_REAL']=='SUSTANTIVO']\n",
    "print(no_rec)"
   ]
  },
  {
   "cell_type": "code",
   "execution_count": 67,
   "metadata": {},
   "outputs": [
    {
     "name": "stdout",
     "output_type": "stream",
     "text": [
      "         PMID  posición     palabra POS_Predicho    POS_REAL\n",
      "5    39437840         6  ecological         OTRO  SUSTANTIVO\n",
      "91   39437840        92          's         OTRO  SUSTANTIVO\n",
      "121  39437840       122    richness         OTRO  SUSTANTIVO\n",
      "122  39437840       123    gradient         OTRO  SUSTANTIVO\n",
      "124  39437840       125        link         OTRO  SUSTANTIVO\n",
      "169  39437840       170  ecological         OTRO  SUSTANTIVO\n",
      "202  39437840       203  structural         OTRO  SUSTANTIVO\n",
      "208  39437840       209          's         OTRO  SUSTANTIVO\n",
      "229  39437840       230     trophic         OTRO  SUSTANTIVO\n"
     ]
    },
    {
     "name": "stderr",
     "output_type": "stream",
     "text": [
      "/var/folders/z6/m38l9jcx5tn1q649hp37hy0r0000gn/T/ipykernel_1412/3786631048.py:1: UserWarning: Boolean Series key will be reindexed to match DataFrame index.\n",
      "  fal_neg=df[(df_val['POS_REAL']=='SUSTANTIVO')& (df_val['POS_Predicho']=='OTRO')]\n"
     ]
    }
   ],
   "source": [
    "fal_neg=df[(df_val['POS_REAL']=='SUSTANTIVO')& (df_val['POS_Predicho']=='OTRO')]\n",
    "print(fal_neg)"
   ]
  }
 ],
 "metadata": {
  "kernelspec": {
   "display_name": ".venv",
   "language": "python",
   "name": "python3"
  },
  "language_info": {
   "codemirror_mode": {
    "name": "ipython",
    "version": 3
   },
   "file_extension": ".py",
   "mimetype": "text/x-python",
   "name": "python",
   "nbconvert_exporter": "python",
   "pygments_lexer": "ipython3",
   "version": "3.9.6"
  }
 },
 "nbformat": 4,
 "nbformat_minor": 2
}
